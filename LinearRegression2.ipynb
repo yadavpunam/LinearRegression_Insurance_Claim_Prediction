{
 "cells": [
  {
   "cell_type": "markdown",
   "id": "adeab909",
   "metadata": {},
   "source": [
    "# Insurance Claim Prediction"
   ]
  },
  {
   "cell_type": "markdown",
   "id": "d57bdd4a",
   "metadata": {},
   "source": [
    "# Problem Statement:-"
   ]
  },
  {
   "cell_type": "markdown",
   "id": "54f793a0",
   "metadata": {},
   "source": [
    "A key challenge for the insurance industry is to charge each customer an appropriate premium for the risk they represent. The ability to predict a correct claim amount has a significant impact on insurer's management decisions and financial statements. Predicting the cost of claims in an insurance company is a real-life problem that needs to be solved in a more accurate and automated way. Several factors determine the cost of claims based on health factors like BMI, age, smoker, health conditions and others. Insurance companies apply numerous techniques for analyzing and predicting health insurance costs."
   ]
  },
  {
   "cell_type": "markdown",
   "id": "bb80c27d",
   "metadata": {},
   "source": [
    "# Data Definition"
   ]
  },
  {
   "cell_type": "markdown",
   "id": "289ea520",
   "metadata": {},
   "source": [
    "age : Age of the policyholder\n",
    "\n",
    "sex: Gender of policyholder\n",
    "\n",
    "bmi: Body mass index, providing an understanding of body, weights that are relatively high or low relative to height, objective index of body weight (kg / m ^ 2) using the ratio of height to weight\n",
    "\n",
    "children: Number of children of the policyholder\n",
    "\n",
    "smoker: Indicates policy holder is a smoker or a non-smoker (non-smoker=0;smoker=1)\n",
    "\n",
    "region: The region where the policy holder belongs to (northeast, northwest, southeast, southwest)\n",
    "\n",
    "claim: Claim amount\n",
    "\n",
    "bloodpressure: Bloodpressure reading of policyholder\n",
    "\n",
    "diabetes: Suffers from diabetes or not (non-diabetic=0; diabetic=1)\n",
    "\n",
    "regular_ex: Regularly excercise or not (no-excercise=0; excercise=1)"
   ]
  },
  {
   "cell_type": "markdown",
   "id": "e8aa126f",
   "metadata": {},
   "source": [
    "# Table of Content"
   ]
  },
  {
   "cell_type": "markdown",
   "id": "e7bfe138",
   "metadata": {},
   "source": [
    "Import Libraries\n",
    "\n",
    "Setting options\n",
    "\n",
    "Read Data\n",
    "\n",
    "Understanding the Dataset and Data Types\n",
    "\n",
    "Summary Statistics\n",
    "\n",
    "Checking Missing Values\n",
    "\n",
    "Correlation and checking collinearity\n",
    "\n",
    "Discover Outliers with Visualization\n",
    "\n",
    "Check for Normality\n",
    "\n",
    "Shapiro Wilk Test to confirm the normal distribution of the data\n",
    "\n",
    "Log Transform to reduce skewness of the target variable\n",
    "\n",
    "Dummy Encoding of Categorical Variables\n",
    "\n",
    "Linear Regression models with (i) Original target variable \n",
    "                              (ii) log transformed target variable\n",
    "\n",
    "Result\n",
    "\n",
    "Conclusion"
   ]
  },
  {
   "cell_type": "code",
   "execution_count": 226,
   "id": "3fbdf70a",
   "metadata": {},
   "outputs": [],
   "source": [
    "# Import Libraries\n",
    "import numpy as np\n",
    "import pandas as pd\n",
    "import matplotlib.pyplot as plt\n",
    "from matplotlib import pyplot\n",
    "import seaborn as sns\n",
    "import sklearn\n",
    "from sklearn.model_selection import train_test_split\n",
    "from sklearn.metrics import r2_score\n",
    "from sklearn.linear_model import LinearRegression\n",
    "from sklearn import metrics\n",
    "import warnings"
   ]
  },
  {
   "cell_type": "code",
   "execution_count": 227,
   "id": "d374bf78",
   "metadata": {},
   "outputs": [],
   "source": [
    "# Settings options\n",
    "warnings.filterwarnings('ignore')\n",
    "\n",
    "# display all dataframe columns\n",
    "pd.options.display.max_columns = None\n",
    "\n",
    "# display all datatframe rows\n",
    "pd.options.display.max_rows = None\n",
    "\n",
    "# to set the limit to 3 decimal places\n",
    "pd.options.display.float_format = '{:.3f}'.format"
   ]
  },
  {
   "cell_type": "code",
   "execution_count": 228,
   "id": "84f12e63",
   "metadata": {},
   "outputs": [],
   "source": [
    "# Load the dataset\n",
    "\n",
    "df = pd.read_csv(\"C:/Users/punam/Downloads/healthinsurance.csv\")"
   ]
  },
  {
   "cell_type": "markdown",
   "id": "07e8956c",
   "metadata": {},
   "source": [
    "# Understanding the Dataset"
   ]
  },
  {
   "cell_type": "code",
   "execution_count": 229,
   "id": "5b09106d",
   "metadata": {},
   "outputs": [
    {
     "data": {
      "text/html": [
       "<div>\n",
       "<style scoped>\n",
       "    .dataframe tbody tr th:only-of-type {\n",
       "        vertical-align: middle;\n",
       "    }\n",
       "\n",
       "    .dataframe tbody tr th {\n",
       "        vertical-align: top;\n",
       "    }\n",
       "\n",
       "    .dataframe thead th {\n",
       "        text-align: right;\n",
       "    }\n",
       "</style>\n",
       "<table border=\"1\" class=\"dataframe\">\n",
       "  <thead>\n",
       "    <tr style=\"text-align: right;\">\n",
       "      <th></th>\n",
       "      <th>age</th>\n",
       "      <th>sex</th>\n",
       "      <th>bmi</th>\n",
       "      <th>children</th>\n",
       "      <th>smoker</th>\n",
       "      <th>region</th>\n",
       "      <th>bloodpressure</th>\n",
       "      <th>diabetes</th>\n",
       "      <th>regular_ex</th>\n",
       "      <th>claim</th>\n",
       "    </tr>\n",
       "  </thead>\n",
       "  <tbody>\n",
       "    <tr>\n",
       "      <th>0</th>\n",
       "      <td>54</td>\n",
       "      <td>female</td>\n",
       "      <td>47.400</td>\n",
       "      <td>0</td>\n",
       "      <td>0</td>\n",
       "      <td>southeast</td>\n",
       "      <td>90</td>\n",
       "      <td>1</td>\n",
       "      <td>0</td>\n",
       "      <td>63770.430</td>\n",
       "    </tr>\n",
       "    <tr>\n",
       "      <th>1</th>\n",
       "      <td>45</td>\n",
       "      <td>male</td>\n",
       "      <td>57.000</td>\n",
       "      <td>0</td>\n",
       "      <td>0</td>\n",
       "      <td>southeast</td>\n",
       "      <td>66</td>\n",
       "      <td>1</td>\n",
       "      <td>0</td>\n",
       "      <td>62592.870</td>\n",
       "    </tr>\n",
       "    <tr>\n",
       "      <th>2</th>\n",
       "      <td>52</td>\n",
       "      <td>male</td>\n",
       "      <td>34.500</td>\n",
       "      <td>3</td>\n",
       "      <td>0</td>\n",
       "      <td>northwest</td>\n",
       "      <td>70</td>\n",
       "      <td>0</td>\n",
       "      <td>0</td>\n",
       "      <td>60021.400</td>\n",
       "    </tr>\n",
       "    <tr>\n",
       "      <th>3</th>\n",
       "      <td>31</td>\n",
       "      <td>female</td>\n",
       "      <td>38.100</td>\n",
       "      <td>1</td>\n",
       "      <td>0</td>\n",
       "      <td>northeast</td>\n",
       "      <td>80</td>\n",
       "      <td>1</td>\n",
       "      <td>0</td>\n",
       "      <td>58571.070</td>\n",
       "    </tr>\n",
       "  </tbody>\n",
       "</table>\n",
       "</div>"
      ],
      "text/plain": [
       "   age     sex    bmi  children  smoker     region  bloodpressure  diabetes  \\\n",
       "0   54  female 47.400         0       0  southeast             90         1   \n",
       "1   45    male 57.000         0       0  southeast             66         1   \n",
       "2   52    male 34.500         3       0  northwest             70         0   \n",
       "3   31  female 38.100         1       0  northeast             80         1   \n",
       "\n",
       "   regular_ex     claim  \n",
       "0           0 63770.430  \n",
       "1           0 62592.870  \n",
       "2           0 60021.400  \n",
       "3           0 58571.070  "
      ]
     },
     "execution_count": 229,
     "metadata": {},
     "output_type": "execute_result"
    }
   ],
   "source": [
    "# View first few rows of the dataset\n",
    "df.head(4)"
   ]
  },
  {
   "cell_type": "code",
   "execution_count": 230,
   "id": "1cbf4682",
   "metadata": {},
   "outputs": [
    {
     "data": {
      "text/plain": [
       "(1338, 10)"
      ]
     },
     "execution_count": 230,
     "metadata": {},
     "output_type": "execute_result"
    }
   ],
   "source": [
    "# Check the shape of the data\n",
    "df.shape"
   ]
  },
  {
   "cell_type": "markdown",
   "id": "03a1017c",
   "metadata": {},
   "source": [
    "The dataset contains 1338 rows(observations) and 10 columns."
   ]
  },
  {
   "cell_type": "code",
   "execution_count": 231,
   "id": "269c0cc1",
   "metadata": {},
   "outputs": [
    {
     "data": {
      "text/plain": [
       "age                int64\n",
       "sex               object\n",
       "bmi              float64\n",
       "children           int64\n",
       "smoker             int64\n",
       "region            object\n",
       "bloodpressure      int64\n",
       "diabetes           int64\n",
       "regular_ex         int64\n",
       "claim            float64\n",
       "dtype: object"
      ]
     },
     "execution_count": 231,
     "metadata": {},
     "output_type": "execute_result"
    }
   ],
   "source": [
    "# Check the datatypes\n",
    "df.dtypes"
   ]
  },
  {
   "cell_type": "markdown",
   "id": "3d6c2dce",
   "metadata": {},
   "source": [
    "From the above output, we see that the data type of \"smoker\", \"diabetes\" and \"regular_ex\" is int64.\n",
    "\n",
    "But in reality, \"smoker\", \"diabetes\" and \"regular_ex\" are categorical variables, which are wrongly interpreted as int64, so we will convert these variables data type to object."
   ]
  },
  {
   "cell_type": "code",
   "execution_count": 232,
   "id": "856eb67a",
   "metadata": {},
   "outputs": [],
   "source": [
    "# Convert numeric variables to categorical datatype wherever needed\n",
    "df.smoker = df.smoker.astype('object')\n",
    "df.diabetes = df.diabetes.astype('object')\n",
    "df.regular_ex = df.regular_ex.astype('object')"
   ]
  },
  {
   "cell_type": "code",
   "execution_count": 233,
   "id": "f19432d3",
   "metadata": {},
   "outputs": [
    {
     "data": {
      "text/plain": [
       "age                int64\n",
       "sex               object\n",
       "bmi              float64\n",
       "children           int64\n",
       "smoker            object\n",
       "region            object\n",
       "bloodpressure      int64\n",
       "diabetes          object\n",
       "regular_ex        object\n",
       "claim            float64\n",
       "dtype: object"
      ]
     },
     "execution_count": 233,
     "metadata": {},
     "output_type": "execute_result"
    }
   ],
   "source": [
    "# Let us recheck the datatype conversion\n",
    "df.dtypes"
   ]
  },
  {
   "cell_type": "code",
   "execution_count": 234,
   "id": "e0b68944",
   "metadata": {},
   "outputs": [
    {
     "data": {
      "text/html": [
       "<div>\n",
       "<style scoped>\n",
       "    .dataframe tbody tr th:only-of-type {\n",
       "        vertical-align: middle;\n",
       "    }\n",
       "\n",
       "    .dataframe tbody tr th {\n",
       "        vertical-align: top;\n",
       "    }\n",
       "\n",
       "    .dataframe thead th {\n",
       "        text-align: right;\n",
       "    }\n",
       "</style>\n",
       "<table border=\"1\" class=\"dataframe\">\n",
       "  <thead>\n",
       "    <tr style=\"text-align: right;\">\n",
       "      <th></th>\n",
       "      <th>age</th>\n",
       "      <th>bmi</th>\n",
       "      <th>children</th>\n",
       "      <th>bloodpressure</th>\n",
       "      <th>claim</th>\n",
       "    </tr>\n",
       "  </thead>\n",
       "  <tbody>\n",
       "    <tr>\n",
       "      <th>count</th>\n",
       "      <td>1338.000</td>\n",
       "      <td>1338.000</td>\n",
       "      <td>1338.000</td>\n",
       "      <td>1338.000</td>\n",
       "      <td>1338.000</td>\n",
       "    </tr>\n",
       "    <tr>\n",
       "      <th>mean</th>\n",
       "      <td>39.207</td>\n",
       "      <td>30.808</td>\n",
       "      <td>1.095</td>\n",
       "      <td>68.978</td>\n",
       "      <td>13270.422</td>\n",
       "    </tr>\n",
       "    <tr>\n",
       "      <th>std</th>\n",
       "      <td>14.050</td>\n",
       "      <td>6.282</td>\n",
       "      <td>1.205</td>\n",
       "      <td>19.328</td>\n",
       "      <td>12110.011</td>\n",
       "    </tr>\n",
       "    <tr>\n",
       "      <th>min</th>\n",
       "      <td>18.000</td>\n",
       "      <td>16.000</td>\n",
       "      <td>0.000</td>\n",
       "      <td>0.000</td>\n",
       "      <td>1121.870</td>\n",
       "    </tr>\n",
       "    <tr>\n",
       "      <th>25%</th>\n",
       "      <td>27.000</td>\n",
       "      <td>26.300</td>\n",
       "      <td>0.000</td>\n",
       "      <td>64.000</td>\n",
       "      <td>4740.288</td>\n",
       "    </tr>\n",
       "    <tr>\n",
       "      <th>50%</th>\n",
       "      <td>39.000</td>\n",
       "      <td>30.500</td>\n",
       "      <td>1.000</td>\n",
       "      <td>72.000</td>\n",
       "      <td>9382.030</td>\n",
       "    </tr>\n",
       "    <tr>\n",
       "      <th>75%</th>\n",
       "      <td>51.000</td>\n",
       "      <td>34.800</td>\n",
       "      <td>2.000</td>\n",
       "      <td>80.000</td>\n",
       "      <td>16639.915</td>\n",
       "    </tr>\n",
       "    <tr>\n",
       "      <th>max</th>\n",
       "      <td>64.000</td>\n",
       "      <td>62.000</td>\n",
       "      <td>5.000</td>\n",
       "      <td>122.000</td>\n",
       "      <td>63770.430</td>\n",
       "    </tr>\n",
       "  </tbody>\n",
       "</table>\n",
       "</div>"
      ],
      "text/plain": [
       "           age      bmi  children  bloodpressure     claim\n",
       "count 1338.000 1338.000  1338.000       1338.000  1338.000\n",
       "mean    39.207   30.808     1.095         68.978 13270.422\n",
       "std     14.050    6.282     1.205         19.328 12110.011\n",
       "min     18.000   16.000     0.000          0.000  1121.870\n",
       "25%     27.000   26.300     0.000         64.000  4740.288\n",
       "50%     39.000   30.500     1.000         72.000  9382.030\n",
       "75%     51.000   34.800     2.000         80.000 16639.915\n",
       "max     64.000   62.000     5.000        122.000 63770.430"
      ]
     },
     "execution_count": 234,
     "metadata": {},
     "output_type": "execute_result"
    }
   ],
   "source": [
    "# Statistical summary of the numerical data\n",
    "df.describe()"
   ]
  },
  {
   "cell_type": "markdown",
   "id": "ef62d85d",
   "metadata": {},
   "source": [
    "The above output prints the important summary statistics of all the numeric variables like the mean, median (50%), minimum, and maximum values, along with the standard deviation. \n",
    "\n",
    "If we observe, the average age of a person in the dataset is 39 years. The claim cost is between 1121 to 63770. Here the mean body mass index of a person is 30 (The healthy bmi range is between 25 to 30)"
   ]
  },
  {
   "cell_type": "code",
   "execution_count": 235,
   "id": "49d955b6",
   "metadata": {},
   "outputs": [
    {
     "data": {
      "text/html": [
       "<div>\n",
       "<style scoped>\n",
       "    .dataframe tbody tr th:only-of-type {\n",
       "        vertical-align: middle;\n",
       "    }\n",
       "\n",
       "    .dataframe tbody tr th {\n",
       "        vertical-align: top;\n",
       "    }\n",
       "\n",
       "    .dataframe thead th {\n",
       "        text-align: right;\n",
       "    }\n",
       "</style>\n",
       "<table border=\"1\" class=\"dataframe\">\n",
       "  <thead>\n",
       "    <tr style=\"text-align: right;\">\n",
       "      <th></th>\n",
       "      <th>sex</th>\n",
       "      <th>smoker</th>\n",
       "      <th>region</th>\n",
       "      <th>diabetes</th>\n",
       "      <th>regular_ex</th>\n",
       "    </tr>\n",
       "  </thead>\n",
       "  <tbody>\n",
       "    <tr>\n",
       "      <th>count</th>\n",
       "      <td>1338</td>\n",
       "      <td>1338</td>\n",
       "      <td>1338</td>\n",
       "      <td>1338</td>\n",
       "      <td>1338</td>\n",
       "    </tr>\n",
       "    <tr>\n",
       "      <th>unique</th>\n",
       "      <td>2</td>\n",
       "      <td>2</td>\n",
       "      <td>4</td>\n",
       "      <td>2</td>\n",
       "      <td>2</td>\n",
       "    </tr>\n",
       "    <tr>\n",
       "      <th>top</th>\n",
       "      <td>male</td>\n",
       "      <td>0</td>\n",
       "      <td>southeast</td>\n",
       "      <td>1</td>\n",
       "      <td>0</td>\n",
       "    </tr>\n",
       "    <tr>\n",
       "      <th>freq</th>\n",
       "      <td>676</td>\n",
       "      <td>1145</td>\n",
       "      <td>364</td>\n",
       "      <td>920</td>\n",
       "      <td>911</td>\n",
       "    </tr>\n",
       "  </tbody>\n",
       "</table>\n",
       "</div>"
      ],
      "text/plain": [
       "         sex  smoker     region  diabetes  regular_ex\n",
       "count   1338    1338       1338      1338        1338\n",
       "unique     2       2          4         2           2\n",
       "top     male       0  southeast         1           0\n",
       "freq     676    1145        364       920         911"
      ]
     },
     "execution_count": 235,
     "metadata": {},
     "output_type": "execute_result"
    }
   ],
   "source": [
    "# Summary of categorical data\n",
    "df.describe(include = 'object' )"
   ]
  },
  {
   "cell_type": "markdown",
   "id": "770d4e3f",
   "metadata": {},
   "source": [
    "Here we observe the unique values for all categorical data. The data has been taken from four different regions and most of the data are from southeast region. There are more number of non smokers in the dataset and most of the people are diabetic."
   ]
  },
  {
   "cell_type": "markdown",
   "id": "fb6824a8",
   "metadata": {},
   "source": [
    "# Missing Values"
   ]
  },
  {
   "cell_type": "code",
   "execution_count": 236,
   "id": "f3fc7de5",
   "metadata": {},
   "outputs": [
    {
     "data": {
      "text/plain": [
       "age              0\n",
       "sex              0\n",
       "bmi              0\n",
       "children         0\n",
       "smoker           0\n",
       "region           0\n",
       "bloodpressure    0\n",
       "diabetes         0\n",
       "regular_ex       0\n",
       "claim            0\n",
       "dtype: int64"
      ]
     },
     "execution_count": 236,
     "metadata": {},
     "output_type": "execute_result"
    }
   ],
   "source": [
    "# Check for missing values\n",
    "df.isnull().sum()"
   ]
  },
  {
   "cell_type": "markdown",
   "id": "6e8be309",
   "metadata": {},
   "source": [
    "There are no null values/missing data."
   ]
  },
  {
   "cell_type": "markdown",
   "id": "1537aa8d",
   "metadata": {},
   "source": [
    "# Correlation"
   ]
  },
  {
   "cell_type": "markdown",
   "id": "12454d87",
   "metadata": {},
   "source": [
    "Correlation is a statistic that measures the degree to which two variables move in relation to each other. A positive correlation indicates the extent to which those variables increase or decrease in parallel; a negative correlation indicates the extent to which one variable increases as the other decreases. Correction among multiple variables can be represented in the form of a matrix. This allows us to see which pairs have the high correlations."
   ]
  },
  {
   "cell_type": "code",
   "execution_count": 237,
   "id": "48fb5090",
   "metadata": {},
   "outputs": [
    {
     "data": {
      "image/png": "[encoded data removed]",
      "text/plain": [
       "<Figure size 640x480 with 2 Axes>"
      ]
     },
     "metadata": {},
     "output_type": "display_data"
    }
   ],
   "source": [
    "# We can draw a heatmap with annotations, using seaborn library to check correlations between different columns\n",
    "sns.heatmap(df.corr(), annot = True)\n",
    "plt.show()"
   ]
  },
  {
   "cell_type": "markdown",
   "id": "acbfa081",
   "metadata": {},
   "source": [
    "It is seen that the continuous variables are not correlated with each other since all the correlation coefficients are close to zero. Which also indicates that there is no multicollinearity in the data.\n",
    "\n",
    "For Linear Regression, one of the important assumption is that there should be no multicollinearity in the data."
   ]
  },
  {
   "cell_type": "code",
   "execution_count": 238,
   "id": "36067c64",
   "metadata": {},
   "outputs": [
    {
     "data": {
      "text/plain": [
       "Index(['age', 'bmi', 'children', 'bloodpressure', 'claim'], dtype='object')"
      ]
     },
     "execution_count": 238,
     "metadata": {},
     "output_type": "execute_result"
    }
   ],
   "source": [
    "# Alternatively, filter the numerical features in the dataset to find the correlation\n",
    "df_numeric_feat = df.select_dtypes(include = [np.number])\n",
    "\n",
    "# print the names of the numeric variables that are part of the df_numeric_feat dataframe\n",
    "df_numeric_feat.columns"
   ]
  },
  {
   "cell_type": "markdown",
   "id": "f385bdc0",
   "metadata": {},
   "source": [
    "The dataframe df_numeric_feat has 5 numeric columns."
   ]
  },
  {
   "cell_type": "code",
   "execution_count": 239,
   "id": "889e6845",
   "metadata": {},
   "outputs": [
    {
     "data": {
      "text/html": [
       "<div>\n",
       "<style scoped>\n",
       "    .dataframe tbody tr th:only-of-type {\n",
       "        vertical-align: middle;\n",
       "    }\n",
       "\n",
       "    .dataframe tbody tr th {\n",
       "        vertical-align: top;\n",
       "    }\n",
       "\n",
       "    .dataframe thead th {\n",
       "        text-align: right;\n",
       "    }\n",
       "</style>\n",
       "<table border=\"1\" class=\"dataframe\">\n",
       "  <thead>\n",
       "    <tr style=\"text-align: right;\">\n",
       "      <th></th>\n",
       "      <th>age</th>\n",
       "      <th>bmi</th>\n",
       "      <th>children</th>\n",
       "      <th>bloodpressure</th>\n",
       "      <th>claim</th>\n",
       "    </tr>\n",
       "  </thead>\n",
       "  <tbody>\n",
       "    <tr>\n",
       "      <th>age</th>\n",
       "      <td>1.000</td>\n",
       "      <td>0.104</td>\n",
       "      <td>0.042</td>\n",
       "      <td>-0.019</td>\n",
       "      <td>0.299</td>\n",
       "    </tr>\n",
       "    <tr>\n",
       "      <th>bmi</th>\n",
       "      <td>0.104</td>\n",
       "      <td>1.000</td>\n",
       "      <td>0.023</td>\n",
       "      <td>0.020</td>\n",
       "      <td>0.229</td>\n",
       "    </tr>\n",
       "    <tr>\n",
       "      <th>children</th>\n",
       "      <td>0.042</td>\n",
       "      <td>0.023</td>\n",
       "      <td>1.000</td>\n",
       "      <td>0.017</td>\n",
       "      <td>0.068</td>\n",
       "    </tr>\n",
       "    <tr>\n",
       "      <th>bloodpressure</th>\n",
       "      <td>-0.019</td>\n",
       "      <td>0.020</td>\n",
       "      <td>0.017</td>\n",
       "      <td>1.000</td>\n",
       "      <td>0.004</td>\n",
       "    </tr>\n",
       "    <tr>\n",
       "      <th>claim</th>\n",
       "      <td>0.299</td>\n",
       "      <td>0.229</td>\n",
       "      <td>0.068</td>\n",
       "      <td>0.004</td>\n",
       "      <td>1.000</td>\n",
       "    </tr>\n",
       "  </tbody>\n",
       "</table>\n",
       "</div>"
      ],
      "text/plain": [
       "                 age   bmi  children  bloodpressure  claim\n",
       "age            1.000 0.104     0.042         -0.019  0.299\n",
       "bmi            0.104 1.000     0.023          0.020  0.229\n",
       "children       0.042 0.023     1.000          0.017  0.068\n",
       "bloodpressure -0.019 0.020     0.017          1.000  0.004\n",
       "claim          0.299 0.229     0.068          0.004  1.000"
      ]
     },
     "execution_count": 239,
     "metadata": {},
     "output_type": "execute_result"
    }
   ],
   "source": [
    "# Generate a correlation matrix\n",
    "df_numeric_feat.corr()"
   ]
  },
  {
   "cell_type": "markdown",
   "id": "90546e6d",
   "metadata": {},
   "source": [
    "# Discover Outliers with Visualization"
   ]
  },
  {
   "cell_type": "markdown",
   "id": "48b80902",
   "metadata": {},
   "source": [
    "One of the assumption of Linear Regression is there should be no outliers."
   ]
  },
  {
   "cell_type": "code",
   "execution_count": 240,
   "id": "60d064c9",
   "metadata": {},
   "outputs": [
    {
     "data": {
      "text/plain": [
       "<Axes: >"
      ]
     },
     "execution_count": 240,
     "metadata": {},
     "output_type": "execute_result"
    },
    {
     "data": {
      "image/png": "[encoded data removed]",
      "text/plain": [
       "<Figure size 640x480 with 1 Axes>"
      ]
     },
     "metadata": {},
     "output_type": "display_data"
    }
   ],
   "source": [
    "# Let us create a boxplot for all numeric features\n",
    "df_numeric_feat.boxplot(column=['age','bmi','children','bloodpressure'])"
   ]
  },
  {
   "cell_type": "markdown",
   "id": "264c7ad8",
   "metadata": {},
   "source": [
    "From the above plot, we notice that for the variable bmi there are points above the upper extreme - these points are outliers. Also for the variable bloodpressure, we see there are outliers at both the extremes.\n",
    "Let us use the IQR method to remove the outliers."
   ]
  },
  {
   "cell_type": "markdown",
   "id": "789f105a",
   "metadata": {},
   "source": [
    "We shall calculate the IQR and remove the outliers based on IQR method"
   ]
  },
  {
   "cell_type": "code",
   "execution_count": 241,
   "id": "5e06bcc5",
   "metadata": {},
   "outputs": [
    {
     "name": "stdout",
     "output_type": "stream",
     "text": [
      "age             24.000\n",
      "bmi              8.500\n",
      "children         2.000\n",
      "bloodpressure   16.000\n",
      "dtype: float64\n"
     ]
    }
   ],
   "source": [
    "# Drop the target variable from the numeric feature dataframe before IQR calculation because we don't intend to delete the high values from the target feature\n",
    "df_numeric_feat = df_numeric_feat.drop(['claim'], axis=1)\n",
    "\n",
    "# Calculate interquartile range\n",
    "Q1 = df_numeric_feat.quantile(0.25)\n",
    "Q3 = df_numeric_feat.quantile(0.75)\n",
    "IQR = Q3-Q1\n",
    "print(IQR)"
   ]
  },
  {
   "cell_type": "code",
   "execution_count": 242,
   "id": "fa109bc4",
   "metadata": {},
   "outputs": [],
   "source": [
    "# Removing outliers from the dataframe\n",
    "df_final = df[~((df<Q1-1.5*IQR)|(df>Q3+1.5*IQR)).any(axis=1)]"
   ]
  },
  {
   "cell_type": "code",
   "execution_count": 243,
   "id": "322f17a9",
   "metadata": {},
   "outputs": [
    {
     "data": {
      "text/plain": [
       "(1242, 10)"
      ]
     },
     "execution_count": 243,
     "metadata": {},
     "output_type": "execute_result"
    }
   ],
   "source": [
    "#Let us check the shape for verification\n",
    "df_final.shape"
   ]
  },
  {
   "cell_type": "markdown",
   "id": "aaafed8d",
   "metadata": {},
   "source": [
    "So, above output shows there is reduction in the number of rows. Now, to confirm that the outliers have been removed let us visualize the boxplot again."
   ]
  },
  {
   "cell_type": "code",
   "execution_count": 244,
   "id": "5d7509b9",
   "metadata": {},
   "outputs": [
    {
     "data": {
      "image/png": "[encoded data removed]",
      "text/plain": [
       "<Figure size 640x480 with 1 Axes>"
      ]
     },
     "metadata": {},
     "output_type": "display_data"
    }
   ],
   "source": [
    "# Rechecking for outliers through visualization\n",
    "df_final.boxplot(column=['age','bmi','children','bloodpressure'])\n",
    "plt.show()"
   ]
  },
  {
   "cell_type": "markdown",
   "id": "e6fad788",
   "metadata": {},
   "source": [
    "# Check for Normality of data:"
   ]
  },
  {
   "cell_type": "markdown",
   "id": "4d4a83d5",
   "metadata": {},
   "source": [
    "It is not a strict assumption of linear regression for the data to be normally distributed. However, if the data is normally distributed then linear regression tends to perform better"
   ]
  },
  {
   "cell_type": "code",
   "execution_count": 245,
   "id": "e42c4e3f",
   "metadata": {},
   "outputs": [
    {
     "data": {
      "image/png": "[encoded data removed]",
      "text/plain": [
       "<Figure size 640x480 with 1 Axes>"
      ]
     },
     "metadata": {},
     "output_type": "display_data"
    }
   ],
   "source": [
    "# To view the distribution of our target variable let us use a histogram.\n",
    "plt.hist(df_final.claim)\n",
    "plt.show()"
   ]
  },
  {
   "cell_type": "markdown",
   "id": "1dcdc8e6",
   "metadata": {},
   "source": [
    "From the above plot, we can notice that the variable 'claim' is heavily right skewed and not normally distributed."
   ]
  },
  {
   "cell_type": "markdown",
   "id": "63339bca",
   "metadata": {},
   "source": [
    "We should not only make conclusions through visual representations or only using a statistical test but perform multiple ways to get the best insight."
   ]
  },
  {
   "cell_type": "markdown",
   "id": "4bc45624",
   "metadata": {},
   "source": [
    "Thus for further statistical confirmation we perform the Shapiro-Wilk test. Shapiro Wilk test is a statistical test for normality."
   ]
  },
  {
   "cell_type": "markdown",
   "id": "c7b85efc",
   "metadata": {},
   "source": [
    "# Shapiro Wilk Test"
   ]
  },
  {
   "cell_type": "markdown",
   "id": "8252438b",
   "metadata": {},
   "source": [
    "The null and alternate hypothesis of Shapiro Wilk test are as follows:\n",
    "\n",
    "Ho: The data is normally distributed\n",
    "\n",
    "Ha: The data is not normally distributed"
   ]
  },
  {
   "cell_type": "code",
   "execution_count": 246,
   "id": "0248ca5f",
   "metadata": {},
   "outputs": [
    {
     "name": "stdout",
     "output_type": "stream",
     "text": [
      "Statistics = 0.817, p-value = 0.000\n",
      "Sample does not look Gaussian (reject H0)\n"
     ]
    }
   ],
   "source": [
    "# import shapiro from scipy\n",
    "from scipy.stats import shapiro\n",
    "\n",
    "# normality test\n",
    "stat, p = shapiro(df_final.claim)\n",
    "\n",
    "# To print the numeric outputs of the shapiro test upto 3 decimal places\n",
    "print('Statistics = %.3f, p-value = %.3f' %(stat, p))\n",
    "\n",
    "# display the conclusion\n",
    "alpha = 0.05\n",
    "if p > alpha:\n",
    "    print('Sample looks Gaussian (fail to reject H0)')\n",
    "else:\n",
    "    print('Sample does not look Gaussian (reject H0)')"
   ]
  },
  {
   "cell_type": "markdown",
   "id": "ab4c6f8c",
   "metadata": {},
   "source": [
    "It is apparent that the p-value is less than 0.05. So we have enough evidence to reject the null hypothesis. It can be concluded that the data is not normally distributed.\n",
    "\n",
    "Shaprio Wilk Test does not work if the number of observations are more than 5000. However Shapiro Wilk test is more robust than other tests. In case where the observations are more than 5000, other tests like Anderson Darling test or Jarque Bera test may also be used.\n",
    "\n",
    "Now we opt for log transformation in order to reduce the skewness. We will log transform the claim variable."
   ]
  },
  {
   "cell_type": "markdown",
   "id": "301e13e7",
   "metadata": {},
   "source": [
    "# Log Transform"
   ]
  },
  {
   "cell_type": "markdown",
   "id": "bf414b5d",
   "metadata": {},
   "source": [
    "The log transformation can be used to make highly skewed distributions less skewed.\n",
    "\n",
    "We use np.log() to log transform the claim variable. We also store the transformed variable into our data frame with a new name, log_claim."
   ]
  },
  {
   "cell_type": "code",
   "execution_count": 247,
   "id": "cfb552cc",
   "metadata": {},
   "outputs": [
    {
     "data": {
      "text/html": [
       "<div>\n",
       "<style scoped>\n",
       "    .dataframe tbody tr th:only-of-type {\n",
       "        vertical-align: middle;\n",
       "    }\n",
       "\n",
       "    .dataframe tbody tr th {\n",
       "        vertical-align: top;\n",
       "    }\n",
       "\n",
       "    .dataframe thead th {\n",
       "        text-align: right;\n",
       "    }\n",
       "</style>\n",
       "<table border=\"1\" class=\"dataframe\">\n",
       "  <thead>\n",
       "    <tr style=\"text-align: right;\">\n",
       "      <th></th>\n",
       "      <th>age</th>\n",
       "      <th>sex</th>\n",
       "      <th>bmi</th>\n",
       "      <th>children</th>\n",
       "      <th>smoker</th>\n",
       "      <th>region</th>\n",
       "      <th>bloodpressure</th>\n",
       "      <th>diabetes</th>\n",
       "      <th>regular_ex</th>\n",
       "      <th>claim</th>\n",
       "      <th>log_claim</th>\n",
       "    </tr>\n",
       "  </thead>\n",
       "  <tbody>\n",
       "    <tr>\n",
       "      <th>0</th>\n",
       "      <td>54</td>\n",
       "      <td>female</td>\n",
       "      <td>47.400</td>\n",
       "      <td>0</td>\n",
       "      <td>0</td>\n",
       "      <td>southeast</td>\n",
       "      <td>90</td>\n",
       "      <td>1</td>\n",
       "      <td>0</td>\n",
       "      <td>63770.430</td>\n",
       "      <td>11.063</td>\n",
       "    </tr>\n",
       "    <tr>\n",
       "      <th>2</th>\n",
       "      <td>52</td>\n",
       "      <td>male</td>\n",
       "      <td>34.500</td>\n",
       "      <td>3</td>\n",
       "      <td>0</td>\n",
       "      <td>northwest</td>\n",
       "      <td>70</td>\n",
       "      <td>0</td>\n",
       "      <td>0</td>\n",
       "      <td>60021.400</td>\n",
       "      <td>11.002</td>\n",
       "    </tr>\n",
       "    <tr>\n",
       "      <th>3</th>\n",
       "      <td>31</td>\n",
       "      <td>female</td>\n",
       "      <td>38.100</td>\n",
       "      <td>1</td>\n",
       "      <td>0</td>\n",
       "      <td>northeast</td>\n",
       "      <td>80</td>\n",
       "      <td>1</td>\n",
       "      <td>0</td>\n",
       "      <td>58571.070</td>\n",
       "      <td>10.978</td>\n",
       "    </tr>\n",
       "    <tr>\n",
       "      <th>5</th>\n",
       "      <td>60</td>\n",
       "      <td>male</td>\n",
       "      <td>32.800</td>\n",
       "      <td>0</td>\n",
       "      <td>1</td>\n",
       "      <td>southwest</td>\n",
       "      <td>75</td>\n",
       "      <td>0</td>\n",
       "      <td>0</td>\n",
       "      <td>52590.830</td>\n",
       "      <td>10.870</td>\n",
       "    </tr>\n",
       "  </tbody>\n",
       "</table>\n",
       "</div>"
      ],
      "text/plain": [
       "   age     sex    bmi  children smoker     region  bloodpressure diabetes  \\\n",
       "0   54  female 47.400         0      0  southeast             90        1   \n",
       "2   52    male 34.500         3      0  northwest             70        0   \n",
       "3   31  female 38.100         1      0  northeast             80        1   \n",
       "5   60    male 32.800         0      1  southwest             75        0   \n",
       "\n",
       "  regular_ex     claim  log_claim  \n",
       "0          0 63770.430     11.063  \n",
       "2          0 60021.400     11.002  \n",
       "3          0 58571.070     10.978  \n",
       "5          0 52590.830     10.870  "
      ]
     },
     "execution_count": 247,
     "metadata": {},
     "output_type": "execute_result"
    }
   ],
   "source": [
    "# log transformation for normality\n",
    "df_final['log_claim'] = np.log(df_final['claim'])\n",
    "\n",
    "# display first few rows of the dataset\n",
    "df_final.head(4)"
   ]
  },
  {
   "cell_type": "code",
   "execution_count": 248,
   "id": "b1d098b1",
   "metadata": {},
   "outputs": [
    {
     "data": {
      "image/png": "[encoded data removed]",
      "text/plain": [
       "<Figure size 640x480 with 1 Axes>"
      ]
     },
     "metadata": {},
     "output_type": "display_data"
    }
   ],
   "source": [
    "# Recheck for normality\n",
    "# Display histogram of the data\n",
    "plt.hist(df_final.log_claim)\n",
    "\n",
    "plt.show()"
   ]
  },
  {
   "cell_type": "markdown",
   "id": "6c6a05e8",
   "metadata": {},
   "source": [
    "It can be seen that the variable claim is nearly normally distributed. \n",
    "\n",
    "However we again confirm by Shapiro Wilk test.\n",
    "\n",
    "Lets recollect that the null and alternate hypothesis of Shapiro Wilk test are as follows:\n",
    "    \n",
    "Ho: The data is normally distributed\n",
    "\n",
    "Ha: The data is not normally distributed"
   ]
  },
  {
   "cell_type": "code",
   "execution_count": 249,
   "id": "22a73f26",
   "metadata": {},
   "outputs": [
    {
     "name": "stdout",
     "output_type": "stream",
     "text": [
      "Statistics=0.983, p-value=0.000\n",
      "Sample does not look Gaussian (reject H0)\n"
     ]
    }
   ],
   "source": [
    "# rechecking normality by Shapiro Wilk test\n",
    "statn, pv = shapiro(df_final.log_claim)\n",
    "print('Statistics=%.3f, p-value=%.3f' % (statn, pv))\n",
    "\n",
    "# interpret\n",
    "alpha = 0.05\n",
    "if pv > alpha:\n",
    "    print('Sample looks Gaussian (fail to reject H0)')\n",
    "else:\n",
    "    print('Sample does not look Gaussian (reject H0)')"
   ]
  },
  {
   "cell_type": "markdown",
   "id": "93be53eb",
   "metadata": {},
   "source": [
    "It can be visually seen that the data has near-normal distribution, but Shapiro Wilk test does not support the claim.\n",
    "\n",
    "Let us now proceed to train models. One model with the original claim variable and another model with the log transformed claim variable. We shall begin by fitting a linear regression mode using the method of ordinary least squares.\n",
    "\n",
    "However, we need to perform dummy encoding on our categorical variables before we proceed since the method of OLS works only on numeric data. Dummy coding refers to the process of coding a categorical variable into dichotomous variables."
   ]
  },
  {
   "cell_type": "markdown",
   "id": "3a90e56e",
   "metadata": {},
   "source": [
    "# Dummy Encoding of Categorical Variables"
   ]
  },
  {
   "cell_type": "markdown",
   "id": "3cd25dea",
   "metadata": {},
   "source": [
    "To build linear regression models we use OLS method. As discussed earlier, it can be seen that some varibles are categorical. The OLS method fails in presence of categorical variables. To overcome this we use dummy coding."
   ]
  },
  {
   "cell_type": "code",
   "execution_count": 250,
   "id": "cf58b289",
   "metadata": {},
   "outputs": [
    {
     "data": {
      "text/plain": [
       "Index(['age', 'bmi', 'children', 'bloodpressure', 'claim', 'log_claim'], dtype='object')"
      ]
     },
     "execution_count": 250,
     "metadata": {},
     "output_type": "execute_result"
    }
   ],
   "source": [
    "# Filter the numeric features from the dataset\n",
    "df_num_feat = df_final.select_dtypes(include=[np.number])\n",
    "\n",
    "# display the numeric features\n",
    "df_num_feat.columns"
   ]
  },
  {
   "cell_type": "code",
   "execution_count": 251,
   "id": "588fba29",
   "metadata": {},
   "outputs": [
    {
     "data": {
      "text/plain": [
       "Index(['sex', 'smoker', 'region', 'diabetes', 'regular_ex'], dtype='object')"
      ]
     },
     "execution_count": 251,
     "metadata": {},
     "output_type": "execute_result"
    }
   ],
   "source": [
    "# Filter the categorical features from the dataset\n",
    "df_cat_feat = df_final.select_dtypes(include=[object])\n",
    "\n",
    "# display the categorical features\n",
    "df_cat_feat.columns"
   ]
  },
  {
   "cell_type": "code",
   "execution_count": 252,
   "id": "b802e0e3",
   "metadata": {},
   "outputs": [],
   "source": [
    "# create a dataframe with only encoded categorical features\n",
    "for col in df_cat_feat.columns.values:\n",
    "    dummy_encoded_variables = pd.get_dummies(df_cat_feat[col], prefix= col, drop_first = True)\n",
    "    # add dummy_encoded_variables to df_cat_feat before deleting the original uncoded features\n",
    "    df_cat_feat = pd.concat([df_cat_feat, dummy_encoded_variables], axis=1)\n",
    "    # Now drop the original categorical columns\n",
    "    df_cat_feat.drop([col], axis = 1, inplace = True)"
   ]
  },
  {
   "cell_type": "code",
   "execution_count": 253,
   "id": "f02e52c0",
   "metadata": {},
   "outputs": [],
   "source": [
    "# Concatenate the numerical and dummy encoded categorical variables\n",
    "df_dummy = pd.concat([df_num_feat, df_cat_feat], axis = 1)"
   ]
  },
  {
   "cell_type": "code",
   "execution_count": 254,
   "id": "c52432fc",
   "metadata": {},
   "outputs": [
    {
     "data": {
      "text/html": [
       "<div>\n",
       "<style scoped>\n",
       "    .dataframe tbody tr th:only-of-type {\n",
       "        vertical-align: middle;\n",
       "    }\n",
       "\n",
       "    .dataframe tbody tr th {\n",
       "        vertical-align: top;\n",
       "    }\n",
       "\n",
       "    .dataframe thead th {\n",
       "        text-align: right;\n",
       "    }\n",
       "</style>\n",
       "<table border=\"1\" class=\"dataframe\">\n",
       "  <thead>\n",
       "    <tr style=\"text-align: right;\">\n",
       "      <th></th>\n",
       "      <th>age</th>\n",
       "      <th>bmi</th>\n",
       "      <th>children</th>\n",
       "      <th>bloodpressure</th>\n",
       "      <th>claim</th>\n",
       "      <th>log_claim</th>\n",
       "      <th>sex_male</th>\n",
       "      <th>smoker_1</th>\n",
       "      <th>region_northwest</th>\n",
       "      <th>region_southeast</th>\n",
       "      <th>region_southwest</th>\n",
       "      <th>diabetes_1</th>\n",
       "      <th>regular_ex_1</th>\n",
       "    </tr>\n",
       "  </thead>\n",
       "  <tbody>\n",
       "    <tr>\n",
       "      <th>0</th>\n",
       "      <td>54</td>\n",
       "      <td>47.400</td>\n",
       "      <td>0</td>\n",
       "      <td>90</td>\n",
       "      <td>63770.430</td>\n",
       "      <td>11.063</td>\n",
       "      <td>0</td>\n",
       "      <td>0</td>\n",
       "      <td>0</td>\n",
       "      <td>1</td>\n",
       "      <td>0</td>\n",
       "      <td>1</td>\n",
       "      <td>0</td>\n",
       "    </tr>\n",
       "    <tr>\n",
       "      <th>2</th>\n",
       "      <td>52</td>\n",
       "      <td>34.500</td>\n",
       "      <td>3</td>\n",
       "      <td>70</td>\n",
       "      <td>60021.400</td>\n",
       "      <td>11.002</td>\n",
       "      <td>1</td>\n",
       "      <td>0</td>\n",
       "      <td>1</td>\n",
       "      <td>0</td>\n",
       "      <td>0</td>\n",
       "      <td>0</td>\n",
       "      <td>0</td>\n",
       "    </tr>\n",
       "    <tr>\n",
       "      <th>3</th>\n",
       "      <td>31</td>\n",
       "      <td>38.100</td>\n",
       "      <td>1</td>\n",
       "      <td>80</td>\n",
       "      <td>58571.070</td>\n",
       "      <td>10.978</td>\n",
       "      <td>0</td>\n",
       "      <td>0</td>\n",
       "      <td>0</td>\n",
       "      <td>0</td>\n",
       "      <td>0</td>\n",
       "      <td>1</td>\n",
       "      <td>0</td>\n",
       "    </tr>\n",
       "    <tr>\n",
       "      <th>5</th>\n",
       "      <td>60</td>\n",
       "      <td>32.800</td>\n",
       "      <td>0</td>\n",
       "      <td>75</td>\n",
       "      <td>52590.830</td>\n",
       "      <td>10.870</td>\n",
       "      <td>1</td>\n",
       "      <td>1</td>\n",
       "      <td>0</td>\n",
       "      <td>0</td>\n",
       "      <td>1</td>\n",
       "      <td>0</td>\n",
       "      <td>0</td>\n",
       "    </tr>\n",
       "    <tr>\n",
       "      <th>6</th>\n",
       "      <td>28</td>\n",
       "      <td>36.400</td>\n",
       "      <td>1</td>\n",
       "      <td>78</td>\n",
       "      <td>51194.560</td>\n",
       "      <td>10.843</td>\n",
       "      <td>1</td>\n",
       "      <td>0</td>\n",
       "      <td>0</td>\n",
       "      <td>0</td>\n",
       "      <td>1</td>\n",
       "      <td>1</td>\n",
       "      <td>0</td>\n",
       "    </tr>\n",
       "  </tbody>\n",
       "</table>\n",
       "</div>"
      ],
      "text/plain": [
       "   age    bmi  children  bloodpressure     claim  log_claim  sex_male  \\\n",
       "0   54 47.400         0             90 63770.430     11.063         0   \n",
       "2   52 34.500         3             70 60021.400     11.002         1   \n",
       "3   31 38.100         1             80 58571.070     10.978         0   \n",
       "5   60 32.800         0             75 52590.830     10.870         1   \n",
       "6   28 36.400         1             78 51194.560     10.843         1   \n",
       "\n",
       "   smoker_1  region_northwest  region_southeast  region_southwest  diabetes_1  \\\n",
       "0         0                 0                 1                 0           1   \n",
       "2         0                 1                 0                 0           0   \n",
       "3         0                 0                 0                 0           1   \n",
       "5         1                 0                 0                 1           0   \n",
       "6         0                 0                 0                 1           1   \n",
       "\n",
       "   regular_ex_1  \n",
       "0             0  \n",
       "2             0  \n",
       "3             0  \n",
       "5             0  \n",
       "6             0  "
      ]
     },
     "execution_count": 254,
     "metadata": {},
     "output_type": "execute_result"
    }
   ],
   "source": [
    "# Check the dataframe with dummy variables\n",
    "df_dummy.head()"
   ]
  },
  {
   "cell_type": "markdown",
   "id": "8f8caf14",
   "metadata": {},
   "source": [
    "Thus we have obtained the dummy coded variables.\n",
    "\n",
    "Note how the categorical variables are dummy encoded creating n-1 variables for each categorical variables where n is the number of classes in each categorical variable. So for variable region, which has 4 levels, it has created 3 dummy encoded variables. Similarly, variable smoker has 2 levels and it has created 1 dummy encoded variable."
   ]
  },
  {
   "cell_type": "markdown",
   "id": "2a7faeaa",
   "metadata": {},
   "source": [
    "# Linear Regression with Original (Right Skewed) Target variable"
   ]
  },
  {
   "cell_type": "code",
   "execution_count": 255,
   "id": "ef23a1d8",
   "metadata": {},
   "outputs": [],
   "source": [
    "# Split the dataset into independent and target variables\n",
    "X = df_dummy.drop(['claim','log_claim'], axis = 1)\n",
    "Y = df_dummy['claim']"
   ]
  },
  {
   "cell_type": "code",
   "execution_count": 256,
   "id": "a3e63a9e",
   "metadata": {},
   "outputs": [],
   "source": [
    "# Divide the data into training and test data\n",
    "X_train, X_test, Y_train, Y_test = train_test_split(X,Y, test_size = 0.30, random_state = 42)"
   ]
  },
  {
   "cell_type": "code",
   "execution_count": 257,
   "id": "0ca56fc6",
   "metadata": {},
   "outputs": [],
   "source": [
    "# Instantiate a Linear regression model\n",
    "\n",
    "lr = LinearRegression()\n",
    "\n",
    "lr.fit(X_train, Y_train)\n",
    "Y_pred = lr.predict(X_test)"
   ]
  },
  {
   "cell_type": "code",
   "execution_count": 258,
   "id": "dba7e090",
   "metadata": {},
   "outputs": [
    {
     "data": {
      "text/html": [
       "<div>\n",
       "<style scoped>\n",
       "    .dataframe tbody tr th:only-of-type {\n",
       "        vertical-align: middle;\n",
       "    }\n",
       "\n",
       "    .dataframe tbody tr th {\n",
       "        vertical-align: top;\n",
       "    }\n",
       "\n",
       "    .dataframe thead th {\n",
       "        text-align: right;\n",
       "    }\n",
       "</style>\n",
       "<table border=\"1\" class=\"dataframe\">\n",
       "  <thead>\n",
       "    <tr style=\"text-align: right;\">\n",
       "      <th></th>\n",
       "      <th>attribute/features</th>\n",
       "      <th>coeff.</th>\n",
       "    </tr>\n",
       "  </thead>\n",
       "  <tbody>\n",
       "    <tr>\n",
       "      <th>0</th>\n",
       "      <td>age</td>\n",
       "      <td>275.254</td>\n",
       "    </tr>\n",
       "    <tr>\n",
       "      <th>1</th>\n",
       "      <td>bmi</td>\n",
       "      <td>370.352</td>\n",
       "    </tr>\n",
       "    <tr>\n",
       "      <th>2</th>\n",
       "      <td>children</td>\n",
       "      <td>564.398</td>\n",
       "    </tr>\n",
       "    <tr>\n",
       "      <th>3</th>\n",
       "      <td>bloodpressure</td>\n",
       "      <td>40.795</td>\n",
       "    </tr>\n",
       "    <tr>\n",
       "      <th>4</th>\n",
       "      <td>sex_male</td>\n",
       "      <td>468.320</td>\n",
       "    </tr>\n",
       "    <tr>\n",
       "      <th>5</th>\n",
       "      <td>smoker_1</td>\n",
       "      <td>20138.208</td>\n",
       "    </tr>\n",
       "    <tr>\n",
       "      <th>6</th>\n",
       "      <td>region_northwest</td>\n",
       "      <td>-406.254</td>\n",
       "    </tr>\n",
       "    <tr>\n",
       "      <th>7</th>\n",
       "      <td>region_southeast</td>\n",
       "      <td>-1431.230</td>\n",
       "    </tr>\n",
       "    <tr>\n",
       "      <th>8</th>\n",
       "      <td>region_southwest</td>\n",
       "      <td>-1569.044</td>\n",
       "    </tr>\n",
       "    <tr>\n",
       "      <th>9</th>\n",
       "      <td>diabetes_1</td>\n",
       "      <td>2678.023</td>\n",
       "    </tr>\n",
       "    <tr>\n",
       "      <th>10</th>\n",
       "      <td>regular_ex_1</td>\n",
       "      <td>-2267.071</td>\n",
       "    </tr>\n",
       "  </tbody>\n",
       "</table>\n",
       "</div>"
      ],
      "text/plain": [
       "   attribute/features    coeff.\n",
       "0                 age   275.254\n",
       "1                 bmi   370.352\n",
       "2            children   564.398\n",
       "3       bloodpressure    40.795\n",
       "4            sex_male   468.320\n",
       "5            smoker_1 20138.208\n",
       "6    region_northwest  -406.254\n",
       "7    region_southeast -1431.230\n",
       "8    region_southwest -1569.044\n",
       "9          diabetes_1  2678.023\n",
       "10       regular_ex_1 -2267.071"
      ]
     },
     "execution_count": 258,
     "metadata": {},
     "output_type": "execute_result"
    }
   ],
   "source": [
    "# print the coefficients output\n",
    "pd.DataFrame({'attribute/features': X_train.columns, 'coeff.':lr.coef_})"
   ]
  },
  {
   "cell_type": "code",
   "execution_count": 259,
   "id": "79afbcd0",
   "metadata": {},
   "outputs": [
    {
     "name": "stdout",
     "output_type": "stream",
     "text": [
      "R_sq_test with original dependent variable = 0.496815654722099\n",
      "Adj_R_sq_test with original dependent variable = 0.48148316774687205\n",
      "\n",
      "R_sq_train with original dependent variable = 0.49009415971080594\n",
      "Adj_R_sq_train with original dependent variable = 0.48354927728002284\n"
     ]
    }
   ],
   "source": [
    "# Let us find out the R2 score and the Adjusted R2 score (because this is a case of multivariate data) to determine the goodness of fit of our model.\n",
    "r_2_test = lr.score(X_test, Y_test)\n",
    "print('R_sq_test with original dependent variable =', r_2_test)\n",
    "\n",
    "# Adj r2 = 1-(1-R2)*(n-1)/(n-p-1)\n",
    "adj_r2_test = 1-(1-r_2_test)*(len(Y_test)-1)/(len(Y_test)-X_test.shape[1]-1)\n",
    "print('Adj_R_sq_test with original dependent variable =', adj_r2_test)\n",
    "\n",
    "r_2_train = lr.score(X_train, Y_train)\n",
    "adj_r2_train = 1-(1-r_2_train)*(len(X_train)-1)/(len(X_train)-X_train.shape[1]-1)\n",
    "print('\\n''R_sq_train with original dependent variable =', r_2_train)\n",
    "print('Adj_R_sq_train with original dependent variable =', adj_r2_train)"
   ]
  },
  {
   "cell_type": "markdown",
   "id": "3d488f77",
   "metadata": {},
   "source": [
    "With an R_squared value that low, our predictions are nowhere close to reliable.\n",
    "\n",
    "Let us use a scatter plot between the observed and the predicted values to make a better judgment"
   ]
  },
  {
   "cell_type": "code",
   "execution_count": 260,
   "id": "adcfd572",
   "metadata": {},
   "outputs": [
    {
     "data": {
      "image/png": "[encoded data removed]",
      "text/plain": [
       "<Figure size 640x480 with 1 Axes>"
      ]
     },
     "metadata": {},
     "output_type": "display_data"
    }
   ],
   "source": [
    "# Scatter plot between the ground truth and predicted value\n",
    "plt.scatter(Y_test, Y_pred)\n",
    "plt.xlabel('Ground truth, Y_test')\n",
    "plt.ylabel('Predicted, Y_pred')\n",
    "plt.title('Observed v/s Predicted test results')\n",
    "plt.show()"
   ]
  },
  {
   "cell_type": "markdown",
   "id": "d2c6737c",
   "metadata": {},
   "source": [
    "For lower values of the target, the model did make close predictions.\n",
    "\n",
    "But beyond around 11000, there are a lot of bad predictions.\n",
    "\n",
    "This is possibly due to the extremely skewed target variable.\n",
    "\n",
    "Let us try if we can make better predictions by training the model with a log transformed dependent variable."
   ]
  },
  {
   "cell_type": "markdown",
   "id": "eb72afde",
   "metadata": {},
   "source": [
    "# Linear Regression with Log Transformed Target variable"
   ]
  },
  {
   "cell_type": "code",
   "execution_count": 261,
   "id": "cb0f1699",
   "metadata": {},
   "outputs": [],
   "source": [
    "# Split the dataset into independent and target variables\n",
    "# This time X remains the same but Y chanes to log_claim\n",
    "\n",
    "X = df_dummy.drop(['log_claim','claim'], axis=1)\n",
    "Y = df_dummy['log_claim']"
   ]
  },
  {
   "cell_type": "code",
   "execution_count": 262,
   "id": "c7879ed5",
   "metadata": {},
   "outputs": [],
   "source": [
    "# Split the data into train and test data\n",
    "X_train, X_test, Y_train, Y_test = train_test_split(X,Y,test_size= 0.30, random_state=42)\n",
    "\n",
    "# instantiate a Linear Regression model\n",
    "lr_log = LinearRegression()\n",
    "lr_log.fit(X_train,Y_train)\n",
    "Y_pred = lr_log.predict(X_test)"
   ]
  },
  {
   "cell_type": "code",
   "execution_count": 263,
   "id": "e4afde16",
   "metadata": {},
   "outputs": [
    {
     "data": {
      "text/html": [
       "<div>\n",
       "<style scoped>\n",
       "    .dataframe tbody tr th:only-of-type {\n",
       "        vertical-align: middle;\n",
       "    }\n",
       "\n",
       "    .dataframe tbody tr th {\n",
       "        vertical-align: top;\n",
       "    }\n",
       "\n",
       "    .dataframe thead th {\n",
       "        text-align: right;\n",
       "    }\n",
       "</style>\n",
       "<table border=\"1\" class=\"dataframe\">\n",
       "  <thead>\n",
       "    <tr style=\"text-align: right;\">\n",
       "      <th></th>\n",
       "      <th>Attributes/Features</th>\n",
       "      <th>Coeff.</th>\n",
       "    </tr>\n",
       "  </thead>\n",
       "  <tbody>\n",
       "    <tr>\n",
       "      <th>0</th>\n",
       "      <td>age</td>\n",
       "      <td>0.037</td>\n",
       "    </tr>\n",
       "    <tr>\n",
       "      <th>1</th>\n",
       "      <td>bmi</td>\n",
       "      <td>0.018</td>\n",
       "    </tr>\n",
       "    <tr>\n",
       "      <th>2</th>\n",
       "      <td>children</td>\n",
       "      <td>0.117</td>\n",
       "    </tr>\n",
       "    <tr>\n",
       "      <th>3</th>\n",
       "      <td>bloodpressure</td>\n",
       "      <td>0.002</td>\n",
       "    </tr>\n",
       "    <tr>\n",
       "      <th>4</th>\n",
       "      <td>sex_male</td>\n",
       "      <td>-0.052</td>\n",
       "    </tr>\n",
       "    <tr>\n",
       "      <th>5</th>\n",
       "      <td>smoker_1</td>\n",
       "      <td>1.501</td>\n",
       "    </tr>\n",
       "    <tr>\n",
       "      <th>6</th>\n",
       "      <td>region_northwest</td>\n",
       "      <td>-0.082</td>\n",
       "    </tr>\n",
       "    <tr>\n",
       "      <th>7</th>\n",
       "      <td>region_southeast</td>\n",
       "      <td>-0.188</td>\n",
       "    </tr>\n",
       "    <tr>\n",
       "      <th>8</th>\n",
       "      <td>region_southwest</td>\n",
       "      <td>-0.183</td>\n",
       "    </tr>\n",
       "    <tr>\n",
       "      <th>9</th>\n",
       "      <td>diabetes_1</td>\n",
       "      <td>0.165</td>\n",
       "    </tr>\n",
       "    <tr>\n",
       "      <th>10</th>\n",
       "      <td>regular_ex_1</td>\n",
       "      <td>-0.070</td>\n",
       "    </tr>\n",
       "  </tbody>\n",
       "</table>\n",
       "</div>"
      ],
      "text/plain": [
       "   Attributes/Features  Coeff.\n",
       "0                  age   0.037\n",
       "1                  bmi   0.018\n",
       "2             children   0.117\n",
       "3        bloodpressure   0.002\n",
       "4             sex_male  -0.052\n",
       "5             smoker_1   1.501\n",
       "6     region_northwest  -0.082\n",
       "7     region_southeast  -0.188\n",
       "8     region_southwest  -0.183\n",
       "9           diabetes_1   0.165\n",
       "10        regular_ex_1  -0.070"
      ]
     },
     "execution_count": 263,
     "metadata": {},
     "output_type": "execute_result"
    }
   ],
   "source": [
    "# Create a dataframe with coeff. of the new model\n",
    "pd.DataFrame({'Attributes/Features': X_train.columns, 'Coeff.': lr_log.coef_})"
   ]
  },
  {
   "cell_type": "code",
   "execution_count": 264,
   "id": "7f1d1099",
   "metadata": {},
   "outputs": [
    {
     "name": "stdout",
     "output_type": "stream",
     "text": [
      "R_sq_test with log transformed dependent variable= 0.6196744452300992\n",
      "Adj_R_sq_test with log transformed dependent variable= 0.6080855779102408\n",
      "\n",
      "R_sq_train with log transformed dependent variable= 0.6504648226953902\n",
      "Adj_R_sq_train with log transformed dependent variable= 0.6459783735117838\n"
     ]
    }
   ],
   "source": [
    "# Let us find out the R2 score & the Adjusted R2 score for both test and train data to check the goodness of fit\n",
    "r_sq_test2 = lr_log.score(X_test, Y_test)\n",
    "adj_r_sq_test2 = 1-(1-r_sq_test2)*(len(X_test)-1)/(len(X_test)-(X_test.shape[1])-1)    #Adj r2 = 1-(1-R2)*(n-1)/(n-p-1)\n",
    "print('R_sq_test with log transformed dependent variable=',r_sq_test2)\n",
    "print('Adj_R_sq_test with log transformed dependent variable=',adj_r_sq_test2)\n",
    "\n",
    "r_sq_train2 = lr_log.score(X_train, Y_train)\n",
    "adj_r_sq_train2 = 1-(1-r_sq_train2)*(len(X_train)-1)/(len(X_train)-(X_train.shape[1])-1)   \n",
    "print('\\n''R_sq_train with log transformed dependent variable=',r_sq_train2)\n",
    "print('Adj_R_sq_train with log transformed dependent variable=',adj_r_sq_train2)"
   ]
  },
  {
   "cell_type": "code",
   "execution_count": 266,
   "id": "58ceda7d",
   "metadata": {},
   "outputs": [
    {
     "data": {
      "image/png": "[encoded data removed]",
      "text/plain": [
       "<Figure size 640x480 with 1 Axes>"
      ]
     },
     "metadata": {},
     "output_type": "display_data"
    }
   ],
   "source": [
    "# Scatter plot between the ground truth and predicted value to make a better judgement\n",
    "plt.scatter(Y_test, Y_pred)\n",
    "plt.xlabel('Observed, Y_test')\n",
    "plt.ylabel('Predicted, Y_pred')\n",
    "plt.title('Observed v/s Predicted test results for log transformed target variable')\n",
    "plt.show()"
   ]
  },
  {
   "cell_type": "markdown",
   "id": "c8a8aa7b",
   "metadata": {},
   "source": [
    "Our overall R_squared has improved and the scatter plot also looks better.\n",
    "\n",
    "However, the model fails again at some of the extreme values."
   ]
  },
  {
   "cell_type": "markdown",
   "id": "87ea9ae7",
   "metadata": {},
   "source": [
    "# Result"
   ]
  },
  {
   "cell_type": "code",
   "execution_count": 265,
   "id": "70388676",
   "metadata": {},
   "outputs": [
    {
     "data": {
      "text/html": [
       "<div>\n",
       "<style scoped>\n",
       "    .dataframe tbody tr th:only-of-type {\n",
       "        vertical-align: middle;\n",
       "    }\n",
       "\n",
       "    .dataframe tbody tr th {\n",
       "        vertical-align: top;\n",
       "    }\n",
       "\n",
       "    .dataframe thead th {\n",
       "        text-align: right;\n",
       "    }\n",
       "</style>\n",
       "<table border=\"1\" class=\"dataframe\">\n",
       "  <thead>\n",
       "    <tr style=\"text-align: right;\">\n",
       "      <th></th>\n",
       "      <th>Attributes/Features</th>\n",
       "      <th>Coeff._claim</th>\n",
       "      <th>Coeff._log_claim</th>\n",
       "    </tr>\n",
       "  </thead>\n",
       "  <tbody>\n",
       "    <tr>\n",
       "      <th>0</th>\n",
       "      <td>age</td>\n",
       "      <td>275.254</td>\n",
       "      <td>0.037</td>\n",
       "    </tr>\n",
       "    <tr>\n",
       "      <th>1</th>\n",
       "      <td>bmi</td>\n",
       "      <td>370.352</td>\n",
       "      <td>0.018</td>\n",
       "    </tr>\n",
       "    <tr>\n",
       "      <th>2</th>\n",
       "      <td>children</td>\n",
       "      <td>564.398</td>\n",
       "      <td>0.117</td>\n",
       "    </tr>\n",
       "    <tr>\n",
       "      <th>3</th>\n",
       "      <td>bloodpressure</td>\n",
       "      <td>40.795</td>\n",
       "      <td>0.002</td>\n",
       "    </tr>\n",
       "    <tr>\n",
       "      <th>4</th>\n",
       "      <td>sex_male</td>\n",
       "      <td>468.320</td>\n",
       "      <td>-0.052</td>\n",
       "    </tr>\n",
       "    <tr>\n",
       "      <th>5</th>\n",
       "      <td>smoker_1</td>\n",
       "      <td>20138.208</td>\n",
       "      <td>1.501</td>\n",
       "    </tr>\n",
       "    <tr>\n",
       "      <th>6</th>\n",
       "      <td>region_northwest</td>\n",
       "      <td>-406.254</td>\n",
       "      <td>-0.082</td>\n",
       "    </tr>\n",
       "    <tr>\n",
       "      <th>7</th>\n",
       "      <td>region_southeast</td>\n",
       "      <td>-1431.230</td>\n",
       "      <td>-0.188</td>\n",
       "    </tr>\n",
       "    <tr>\n",
       "      <th>8</th>\n",
       "      <td>region_southwest</td>\n",
       "      <td>-1569.044</td>\n",
       "      <td>-0.183</td>\n",
       "    </tr>\n",
       "    <tr>\n",
       "      <th>9</th>\n",
       "      <td>diabetes_1</td>\n",
       "      <td>2678.023</td>\n",
       "      <td>0.165</td>\n",
       "    </tr>\n",
       "    <tr>\n",
       "      <th>10</th>\n",
       "      <td>regular_ex_1</td>\n",
       "      <td>-2267.071</td>\n",
       "      <td>-0.070</td>\n",
       "    </tr>\n",
       "  </tbody>\n",
       "</table>\n",
       "</div>"
      ],
      "text/plain": [
       "   Attributes/Features  Coeff._claim  Coeff._log_claim\n",
       "0                  age       275.254             0.037\n",
       "1                  bmi       370.352             0.018\n",
       "2             children       564.398             0.117\n",
       "3        bloodpressure        40.795             0.002\n",
       "4             sex_male       468.320            -0.052\n",
       "5             smoker_1     20138.208             1.501\n",
       "6     region_northwest      -406.254            -0.082\n",
       "7     region_southeast     -1431.230            -0.188\n",
       "8     region_southwest     -1569.044            -0.183\n",
       "9           diabetes_1      2678.023             0.165\n",
       "10        regular_ex_1     -2267.071            -0.070"
      ]
     },
     "execution_count": 265,
     "metadata": {},
     "output_type": "execute_result"
    }
   ],
   "source": [
    "# Create a dataframe comparing coeff. of both models\n",
    "pd.DataFrame({'Attributes/Features': X_train.columns, 'Coeff._claim': lr.coef_, 'Coeff._log_claim': lr_log.coef_})"
   ]
  },
  {
   "cell_type": "code",
   "execution_count": 268,
   "id": "a77d4a49",
   "metadata": {},
   "outputs": [
    {
     "data": {
      "text/html": [
       "<div>\n",
       "<style scoped>\n",
       "    .dataframe tbody tr th:only-of-type {\n",
       "        vertical-align: middle;\n",
       "    }\n",
       "\n",
       "    .dataframe tbody tr th {\n",
       "        vertical-align: top;\n",
       "    }\n",
       "\n",
       "    .dataframe thead th {\n",
       "        text-align: right;\n",
       "    }\n",
       "</style>\n",
       "<table border=\"1\" class=\"dataframe\">\n",
       "  <thead>\n",
       "    <tr style=\"text-align: right;\">\n",
       "      <th></th>\n",
       "      <th>Approach</th>\n",
       "      <th>R_squared on test</th>\n",
       "      <th>R_squared on train</th>\n",
       "      <th>adjusted R_squared on test</th>\n",
       "      <th>adjusted R_squared on train</th>\n",
       "    </tr>\n",
       "  </thead>\n",
       "  <tbody>\n",
       "    <tr>\n",
       "      <th>0</th>\n",
       "      <td>Original dependent variable</td>\n",
       "      <td>0.497</td>\n",
       "      <td>0.490</td>\n",
       "      <td>0.481</td>\n",
       "      <td>0.484</td>\n",
       "    </tr>\n",
       "    <tr>\n",
       "      <th>1</th>\n",
       "      <td>Log transformed dependent variable</td>\n",
       "      <td>0.620</td>\n",
       "      <td>0.650</td>\n",
       "      <td>0.608</td>\n",
       "      <td>0.646</td>\n",
       "    </tr>\n",
       "  </tbody>\n",
       "</table>\n",
       "</div>"
      ],
      "text/plain": [
       "                             Approach  R_squared on test  R_squared on train  \\\n",
       "0         Original dependent variable              0.497               0.490   \n",
       "1  Log transformed dependent variable              0.620               0.650   \n",
       "\n",
       "   adjusted R_squared on test  adjusted R_squared on train  \n",
       "0                       0.481                        0.484  \n",
       "1                       0.608                        0.646  "
      ]
     },
     "execution_count": 268,
     "metadata": {},
     "output_type": "execute_result"
    }
   ],
   "source": [
    "pd.DataFrame({'Approach': ['Original dependent variable', 'Log transformed dependent variable'],\n",
    "             'R_squared on test': [r_2_test, r_sq_test2],\n",
    "             'R_squared on train': [r_2_train, r_sq_train2],\n",
    "             'adjusted R_squared on test': [adj_r2_test, adj_r_sq_test2],\n",
    "             'adjusted R_squared on train': [adj_r2_train, adj_r_sq_train2]})"
   ]
  },
  {
   "cell_type": "markdown",
   "id": "99f6ac81",
   "metadata": {},
   "source": [
    "We used linear regression to examine the effect of all the 9 regressors on the target variable 'claim'.The model could explain  only 49% variation in claim, as indicated by the R squared value of 0.497. However, after adjusting the number of predictors, the adjusted R squared value was 0.481.\n",
    "We got better result of R squared (0.62) and adjusted R squared value (0.608) when tried to explain variance in log transformed target variable."
   ]
  },
  {
   "cell_type": "markdown",
   "id": "66e485fd",
   "metadata": {},
   "source": [
    "# Conclusion"
   ]
  },
  {
   "cell_type": "markdown",
   "id": "2716f350",
   "metadata": {},
   "source": [
    "Based on the results, the linear regression model gave us better results when the dependent variable was less skewed.\n",
    "\n",
    "The model performed poorly when the values went extreme, possibly because the model has not seen enough data with extreme values.\n",
    "\n",
    "We can have better predictions if we could have more data."
   ]
  },
  {
   "cell_type": "markdown",
   "id": "597b5a3f",
   "metadata": {},
   "source": [
    "Glad to acquire new skills:)"
   ]
  }
 ],
 "metadata": {
  "kernelspec": {
   "display_name": "Python 3 (ipykernel)",
   "language": "python",
   "name": "python3"
  },
  "language_info": {
   "codemirror_mode": {
    "name": "ipython",
    "version": 3
   },
   "file_extension": ".py",
   "mimetype": "text/x-python",
   "name": "python",
   "nbconvert_exporter": "python",
   "pygments_lexer": "ipython3",
   "version": "3.9.7"
  }
 },
 "nbformat": 4,
 "nbformat_minor": 5
}
